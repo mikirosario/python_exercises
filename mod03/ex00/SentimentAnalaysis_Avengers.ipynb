{
  "nbformat": 4,
  "nbformat_minor": 0,
  "metadata": {
    "colab": {
      "provenance": [],
      "authorship_tag": "ABX9TyPElHejkMtQTZcS7viSPrrG",
      "include_colab_link": true
    },
    "kernelspec": {
      "name": "python3",
      "display_name": "Python 3"
    },
    "language_info": {
      "name": "python"
    }
  },
  "cells": [
    {
      "cell_type": "markdown",
      "metadata": {
        "id": "view-in-github",
        "colab_type": "text"
      },
      "source": [
        "<a href=\"https://colab.research.google.com/github/mikirosario/python_exercises/blob/master/SentimentAnalaysis_Avengers.ipynb\" target=\"_parent\"><img src=\"https://colab.research.google.com/assets/colab-badge.svg\" alt=\"Open In Colab\"/></a>"
      ]
    },
    {
      "cell_type": "code",
      "source": [
        "# # !pip install colab-xterm\n",
        "# # %load_ext colabxterm\n",
        "# %xterm"
      ],
      "metadata": {
        "id": "ONyGHCR7VMMb"
      },
      "execution_count": null,
      "outputs": []
    },
    {
      "cell_type": "code",
      "source": [
        "from pysentimiento import create_analyzer\n",
        "from pysentimiento.preprocessing import preprocess_tweet\n",
        "import csv\n",
        "\n",
        "class Analysis:\n",
        "  positive = 0\n",
        "  neutral = 0\n",
        "  negative = 0\n",
        "\n",
        "def get_text(line: list):\n",
        "  text = line[1]\n",
        "  i = text.find(':')\n",
        "  return text[i+2:]\n",
        "\n",
        "analyzer = create_analyzer(task=\"sentiment\", lang=\"en\")\n",
        "analysis = Analysis()\n",
        "\n",
        "with open('/content/mod03_ex00/tweets.csv', mode='r', encoding='cp1252') as f:\n",
        "  f.__next__()\n",
        "  reader = csv.reader(f, delimiter=',')\n",
        "  textc = 0\n",
        "  # i = 0\n",
        "  for line in reader:\n",
        "    text = preprocess_tweet(get_text(line))\n",
        "    res = analyzer.predict(text).output\n",
        "    # # Limit analyzed text strings to this number\n",
        "    # if i == 100:\n",
        "    #   break\n",
        "    # i += 1\n",
        "    if (res == 'POS'):\n",
        "      analysis.positive += 1\n",
        "    elif res == 'NEU':\n",
        "      analysis.neutral += 1\n",
        "    else:\n",
        "      analysis.negative += 1\n",
        "    textc += 1\n",
        "\n",
        "  print(\"POS: \", f\"{100 * analysis.positive / textc:.2f}%\")\n",
        "  print(\"NEU: \", f\"{100 * analysis.neutral / textc:.2f}%\")\n",
        "  print(\"NEG: \", f\"{100 * analysis.negative / textc:.2f}%\")"
      ],
      "metadata": {
        "colab": {
          "base_uri": "https://localhost:8080/"
        },
        "id": "Fn1m4abrXjyG",
        "outputId": "7419221c-1c4e-4105-e9d2-1d0c2a118b29"
      },
      "execution_count": 54,
      "outputs": [
        {
          "output_type": "stream",
          "name": "stdout",
          "text": [
            "POS:  47.00%\n",
            "NEU:  49.00%\n",
            "NEG:  4.00%\n"
          ]
        }
      ]
    },
    {
      "cell_type": "code",
      "source": [],
      "metadata": {
        "id": "7hqiTYMendXh"
      },
      "execution_count": null,
      "outputs": []
    }
  ]
}