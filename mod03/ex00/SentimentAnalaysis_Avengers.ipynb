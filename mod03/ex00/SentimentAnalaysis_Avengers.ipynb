{
  "nbformat": 4,
  "nbformat_minor": 0,
  "metadata": {
    "colab": {
      "provenance": [],
      "authorship_tag": "ABX9TyOiwxgd4N3Z+dnsWtIK31F4",
      "include_colab_link": true
    },
    "kernelspec": {
      "name": "python3",
      "display_name": "Python 3"
    },
    "language_info": {
      "name": "python"
    }
  },
  "cells": [
    {
      "cell_type": "markdown",
      "metadata": {
        "id": "view-in-github",
        "colab_type": "text"
      },
      "source": [
        "<a href=\"https://colab.research.google.com/github/mikirosario/python_exercises/blob/master/mod03/ex00/SentimentAnalaysis_Avengers.ipynb\" target=\"_parent\"><img src=\"https://colab.research.google.com/assets/colab-badge.svg\" alt=\"Open In Colab\"/></a>"
      ]
    },
    {
      "cell_type": "code",
      "source": [
        "# # !pip install colab-xterm\n",
        "# # %load_ext colabxterm\n",
        "# %xterm"
      ],
      "metadata": {
        "id": "ONyGHCR7VMMb"
      },
      "execution_count": null,
      "outputs": []
    },
    {
      "cell_type": "code",
      "source": [
        "from pysentimiento import create_analyzer\n",
        "from pysentimiento.preprocessing import preprocess_tweet\n",
        "import csv\n",
        "import matplotlib.pyplot as plt\n",
        "\n",
        "class Analysis:\n",
        "  positive = 0\n",
        "  neutral = 0\n",
        "  negative = 0\n",
        "\n",
        "def get_text(line: list):\n",
        "  text = line[1]\n",
        "  i = text.find(':')\n",
        "  return text[i+2:]\n",
        "\n",
        "def show_pie_chart(analysis: Analysis):\n",
        "  labels= ['Positive', 'Negative', 'Neutral']\n",
        "  colors=['green', 'red', 'gray']\n",
        "  sizes= [analysis.positive, analysis.negative, analysis.neutral]\n",
        "  plt.pie(sizes,labels=labels, colors=colors, startangle=90, shadow=True,explode=(0.1, 0.1, 0.1), autopct='%1.2f%%')\n",
        "  plt.title('Twitter Reactions to Avengers Premiere')\n",
        "  plt.axis('equal')\n",
        "  plt.show()\n",
        "\n",
        "analyzer = create_analyzer(task=\"sentiment\", lang=\"en\")\n",
        "analysis = Analysis()\n",
        "\n",
        "with open('/content/mod03_ex00/tweets.csv', mode='r', encoding='cp1252') as f:\n",
        "  f.__next__()\n",
        "  reader = csv.reader(f, delimiter=',')\n",
        "  textc = 0\n",
        "  # i = 0\n",
        "  for line in reader:\n",
        "    text = preprocess_tweet(get_text(line))\n",
        "    res = analyzer.predict(text).output\n",
        "    # # Limit analyzed text strings to this number\n",
        "    # if i == 100:\n",
        "    #   break\n",
        "    # i += 1\n",
        "    if (res == 'POS'):\n",
        "      analysis.positive += 1\n",
        "    elif res == 'NEU':\n",
        "      analysis.neutral += 1\n",
        "    else:\n",
        "      analysis.negative += 1\n",
        "    textc += 1\n",
        "\n",
        "  print(\"POS: \", f\"{100 * analysis.positive / textc:.2f}%\")\n",
        "  print(\"NEU: \", f\"{100 * analysis.neutral / textc:.2f}%\")\n",
        "  print(\"NEG: \", f\"{100 * analysis.negative / textc:.2f}%\")\n",
        "  show_pie_chart(analysis)"
      ],
      "metadata": {
        "colab": {
          "base_uri": "https://localhost:8080/",
          "height": 324
        },
        "id": "Fn1m4abrXjyG",
        "outputId": "d2a28d6a-a10a-478c-9dcf-a29522169b94"
      },
      "execution_count": 57,
      "outputs": [
        {
          "output_type": "stream",
          "name": "stdout",
          "text": [
            "POS:  47.00%\n",
            "NEU:  49.00%\n",
            "NEG:  4.00%\n"
          ]
        },
        {
          "output_type": "display_data",
          "data": {
            "text/plain": [
              "<Figure size 432x288 with 1 Axes>"
            ],
            "image/png": "[encoded data removed]"
          },
          "metadata": {}
        }
      ]
    }
  ]
}