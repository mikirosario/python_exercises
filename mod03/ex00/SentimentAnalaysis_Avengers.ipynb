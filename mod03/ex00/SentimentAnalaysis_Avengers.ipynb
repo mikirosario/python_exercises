{
  "nbformat": 4,
  "nbformat_minor": 0,
  "metadata": {
    "colab": {
      "provenance": [],
      "authorship_tag": "ABX9TyNbuFVhNVLlMaO0RM8o0WwE",
      "include_colab_link": true
    },
    "kernelspec": {
      "name": "python3",
      "display_name": "Python 3"
    },
    "language_info": {
      "name": "python"
    }
  },
  "cells": [
    {
      "cell_type": "markdown",
      "metadata": {
        "id": "view-in-github",
        "colab_type": "text"
      },
      "source": [
        "<a href=\"https://colab.research.google.com/github/mikirosario/python_exercises/blob/master/mod03/ex00/SentimentAnalaysis_Avengers.ipynb\" target=\"_parent\"><img src=\"https://colab.research.google.com/assets/colab-badge.svg\" alt=\"Open In Colab\"/></a>"
      ]
    },
    {
      "cell_type": "code",
      "source": [
        "# # !pip install colab-xterm\n",
        "# # %load_ext colabxterm\n",
        "%xterm"
      ],
      "metadata": {
        "id": "ONyGHCR7VMMb"
      },
      "execution_count": null,
      "outputs": []
    },
    {
      "cell_type": "code",
      "source": [
        "import time\n",
        "import datetime\n",
        "from math import ceil\n",
        "\n",
        "def my_progress_bar(lst: list):\n",
        "        start_time = datetime.datetime.now()\n",
        "        ms_time_diff = 0\n",
        "        total_elems = len(lst)\n",
        "        remaining_elems = 0\n",
        "        width = 20\n",
        "        fill_width = 0\n",
        "        fill_bar = str()\n",
        "        for elem in lst:\n",
        "                ms_time_diff = (datetime.datetime.now() - start_time).total_seconds() * 1000\n",
        "                remaining_elems = total_elems - lst.index(elem)\n",
        "                processed_elems = total_elems - remaining_elems\n",
        "                percentage_remaining = 100 * remaining_elems / total_elems\n",
        "                percentage_complete = 100 - percentage_remaining\n",
        "                mean_delta_time = ms_time_diff / (1 if processed_elems == 0 else processed_elems)\n",
        "                remaining_time = mean_delta_time * remaining_elems * 0.001\n",
        "                fill_width = 0 if percentage_complete == 0 else width - (width * percentage_remaining * 0.01)\n",
        "                fill_bar = str().ljust(int(fill_width), '=') + '>'\n",
        "                progress_bar = str(f\"\\rETA: {datetime.timedelta(seconds=ceil(remaining_time))} [{percentage_complete:6.2f}%] [{str(fill_bar).ljust(width, ' ')}] {processed_elems}/{total_elems} | elapsed time: {datetime.timedelta(seconds=ceil(ms_time_diff * 0.001))}\")\n",
        "                progress_bar_len = len(progress_bar)\n",
        "                print(progress_bar, end=\"\")\n",
        "                yield elem\n",
        "                print(str('\\r').ljust(progress_bar_len), end=\"\")\n",
        "        print(f\"\\rETA: 0:00:00 [100%] [{str(fill_bar).ljust(width, ' ')}] {total_elems}/{total_elems} | elapsed time: {datetime.timedelta(seconds=ceil(ms_time_diff * 0.001))}\")"
      ],
      "metadata": {
        "id": "JSCW6CIs8cqe"
      },
      "execution_count": null,
      "outputs": []
    },
    {
      "cell_type": "code",
      "source": [
        "from pysentimiento import create_analyzer\n",
        "from pysentimiento.preprocessing import preprocess_tweet\n",
        "import csv\n",
        "import matplotlib.pyplot as plt\n",
        "\n",
        "class Analysis:\n",
        "  positive = 0\n",
        "  neutral = 0\n",
        "  negative = 0\n",
        "\n",
        "def get_text(line: list):\n",
        "  text = line[1]\n",
        "  i = text.find(':')\n",
        "  return text[i+2:]\n",
        "\n",
        "def show_pie_chart(analysis: Analysis):\n",
        "  labels= ['Positive', 'Negative', 'Neutral']\n",
        "  colors=['green', 'red', 'gray']\n",
        "  sizes= [analysis.positive, analysis.negative, analysis.neutral]\n",
        "  plt.pie(sizes,labels=labels, colors=colors, startangle=90, shadow=True,explode=(0.1, 0.1, 0.1), autopct='%1.2f%%')\n",
        "  plt.title('Twitter Reactions to Avengers Premiere')\n",
        "  plt.axis('equal')\n",
        "  plt.show()\n",
        "\n",
        "analyzer = create_analyzer(task=\"sentiment\", lang=\"en\")\n",
        "analysis = Analysis()\n",
        "\n",
        "with open('/content/mod03_ex00/tweets.csv', mode='r', encoding='cp1252') as f:\n",
        "  f.__next__()\n",
        "  reader = csv.reader(f, datetime)\n",
        "  for texts_total, line in enumerate(reader):\n",
        "    pass\n",
        "  f.seek(0)\n",
        "  f.__next__()\n",
        "  reader = csv.reader(f, delimiter=',')\n",
        "  textc = 0\n",
        "  total = range(texts_total)\n",
        "  # i = 0\n",
        "  for line, elem in zip(reader, my_progress_bar(total)):\n",
        "    text = preprocess_tweet(get_text(line))\n",
        "    res = analyzer.predict(text).output\n",
        "    # # Limit analyzed text strings to this number\n",
        "    # if i == 10:\n",
        "    #   break\n",
        "    # i += 1\n",
        "    if (res == 'POS'):\n",
        "      analysis.positive += 1\n",
        "    elif res == 'NEU':\n",
        "      analysis.neutral += 1\n",
        "    else:\n",
        "      analysis.negative += 1\n",
        "    textc += 1\n",
        "  \n",
        "  print(\"\\nPOS: \", f\"{100 * analysis.positive / textc:.2f}%\")\n",
        "  print(\"NEU: \", f\"{100 * analysis.neutral / textc:.2f}%\")\n",
        "  print(\"NEG: \", f\"{100 * analysis.negative / textc:.2f}%\")\n",
        "  show_pie_chart(analysis)"
      ],
      "metadata": {
        "colab": {
          "base_uri": "https://localhost:8080/",
          "height": 355
        },
        "id": "Fn1m4abrXjyG",
        "outputId": "d7dfc47f-1fd9-44f8-ec21-e1a18a172c75"
      },
      "execution_count": 135,
      "outputs": [
        {
          "output_type": "stream",
          "name": "stdout",
          "text": [
            "ETA: 0:00:00 [100%] [===================>] 14999/14999 | elapsed time: 0:40:29\n",
            "\n",
            "POS:  51.60%\n",
            "NEU:  46.24%\n",
            "NEG:  2.16%\n"
          ]
        },
        {
          "output_type": "display_data",
          "data": {
            "text/plain": [
              "<Figure size 432x288 with 1 Axes>"
            ],
            "image/png": "[encoded data removed]"
          },
          "metadata": {}
        }
      ]
    }
  ]
}